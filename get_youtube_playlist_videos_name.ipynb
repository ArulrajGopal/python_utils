{
  "nbformat": 4,
  "nbformat_minor": 0,
  "metadata": {
    "colab": {
      "provenance": [],
      "authorship_tag": "ABX9TyPNYHvxZGfVxQ2nFVJwu72W",
      "include_colab_link": true
    },
    "kernelspec": {
      "name": "python3",
      "display_name": "Python 3"
    },
    "language_info": {
      "name": "python"
    }
  },
  "cells": [
    {
      "cell_type": "markdown",
      "metadata": {
        "id": "view-in-github",
        "colab_type": "text"
      },
      "source": [
        "<a href=\"https://colab.research.google.com/github/ArulrajGopal/python_utils/blob/main/get_youtube_playlist_videos_name.ipynb\" target=\"_parent\"><img src=\"https://colab.research.google.com/assets/colab-badge.svg\" alt=\"Open In Colab\"/></a>"
      ]
    },
    {
      "cell_type": "code",
      "source": [
        "pip install google-api-python-client"
      ],
      "metadata": {
        "colab": {
          "base_uri": "https://localhost:8080/"
        },
        "id": "HxodHbLCgniN",
        "outputId": "b73d742d-b0f5-4a76-f939-3809ba143efe"
      },
      "execution_count": 2,
      "outputs": [
        {
          "output_type": "stream",
          "name": "stdout",
          "text": [
            "Requirement already satisfied: google-api-python-client in /usr/local/lib/python3.10/dist-packages (2.151.0)\n",
            "Requirement already satisfied: httplib2<1.dev0,>=0.19.0 in /usr/local/lib/python3.10/dist-packages (from google-api-python-client) (0.22.0)\n",
            "Requirement already satisfied: google-auth!=2.24.0,!=2.25.0,<3.0.0.dev0,>=1.32.0 in /usr/local/lib/python3.10/dist-packages (from google-api-python-client) (2.27.0)\n",
            "Requirement already satisfied: google-auth-httplib2<1.0.0,>=0.2.0 in /usr/local/lib/python3.10/dist-packages (from google-api-python-client) (0.2.0)\n",
            "Requirement already satisfied: google-api-core!=2.0.*,!=2.1.*,!=2.2.*,!=2.3.0,<3.0.0.dev0,>=1.31.5 in /usr/local/lib/python3.10/dist-packages (from google-api-python-client) (2.19.2)\n",
            "Requirement already satisfied: uritemplate<5,>=3.0.1 in /usr/local/lib/python3.10/dist-packages (from google-api-python-client) (4.1.1)\n",
            "Requirement already satisfied: googleapis-common-protos<2.0.dev0,>=1.56.2 in /usr/local/lib/python3.10/dist-packages (from google-api-core!=2.0.*,!=2.1.*,!=2.2.*,!=2.3.0,<3.0.0.dev0,>=1.31.5->google-api-python-client) (1.66.0)\n",
            "Requirement already satisfied: protobuf!=3.20.0,!=3.20.1,!=4.21.0,!=4.21.1,!=4.21.2,!=4.21.3,!=4.21.4,!=4.21.5,<6.0.0.dev0,>=3.19.5 in /usr/local/lib/python3.10/dist-packages (from google-api-core!=2.0.*,!=2.1.*,!=2.2.*,!=2.3.0,<3.0.0.dev0,>=1.31.5->google-api-python-client) (4.25.5)\n",
            "Requirement already satisfied: proto-plus<2.0.0dev,>=1.22.3 in /usr/local/lib/python3.10/dist-packages (from google-api-core!=2.0.*,!=2.1.*,!=2.2.*,!=2.3.0,<3.0.0.dev0,>=1.31.5->google-api-python-client) (1.25.0)\n",
            "Requirement already satisfied: requests<3.0.0.dev0,>=2.18.0 in /usr/local/lib/python3.10/dist-packages (from google-api-core!=2.0.*,!=2.1.*,!=2.2.*,!=2.3.0,<3.0.0.dev0,>=1.31.5->google-api-python-client) (2.32.3)\n",
            "Requirement already satisfied: cachetools<6.0,>=2.0.0 in /usr/local/lib/python3.10/dist-packages (from google-auth!=2.24.0,!=2.25.0,<3.0.0.dev0,>=1.32.0->google-api-python-client) (5.5.0)\n",
            "Requirement already satisfied: pyasn1-modules>=0.2.1 in /usr/local/lib/python3.10/dist-packages (from google-auth!=2.24.0,!=2.25.0,<3.0.0.dev0,>=1.32.0->google-api-python-client) (0.4.1)\n",
            "Requirement already satisfied: rsa<5,>=3.1.4 in /usr/local/lib/python3.10/dist-packages (from google-auth!=2.24.0,!=2.25.0,<3.0.0.dev0,>=1.32.0->google-api-python-client) (4.9)\n",
            "Requirement already satisfied: pyparsing!=3.0.0,!=3.0.1,!=3.0.2,!=3.0.3,<4,>=2.4.2 in /usr/local/lib/python3.10/dist-packages (from httplib2<1.dev0,>=0.19.0->google-api-python-client) (3.2.0)\n",
            "Requirement already satisfied: pyasn1<0.7.0,>=0.4.6 in /usr/local/lib/python3.10/dist-packages (from pyasn1-modules>=0.2.1->google-auth!=2.24.0,!=2.25.0,<3.0.0.dev0,>=1.32.0->google-api-python-client) (0.6.1)\n",
            "Requirement already satisfied: charset-normalizer<4,>=2 in /usr/local/lib/python3.10/dist-packages (from requests<3.0.0.dev0,>=2.18.0->google-api-core!=2.0.*,!=2.1.*,!=2.2.*,!=2.3.0,<3.0.0.dev0,>=1.31.5->google-api-python-client) (3.4.0)\n",
            "Requirement already satisfied: idna<4,>=2.5 in /usr/local/lib/python3.10/dist-packages (from requests<3.0.0.dev0,>=2.18.0->google-api-core!=2.0.*,!=2.1.*,!=2.2.*,!=2.3.0,<3.0.0.dev0,>=1.31.5->google-api-python-client) (3.10)\n",
            "Requirement already satisfied: urllib3<3,>=1.21.1 in /usr/local/lib/python3.10/dist-packages (from requests<3.0.0.dev0,>=2.18.0->google-api-core!=2.0.*,!=2.1.*,!=2.2.*,!=2.3.0,<3.0.0.dev0,>=1.31.5->google-api-python-client) (2.2.3)\n",
            "Requirement already satisfied: certifi>=2017.4.17 in /usr/local/lib/python3.10/dist-packages (from requests<3.0.0.dev0,>=2.18.0->google-api-core!=2.0.*,!=2.1.*,!=2.2.*,!=2.3.0,<3.0.0.dev0,>=1.31.5->google-api-python-client) (2024.8.30)\n"
          ]
        }
      ]
    },
    {
      "cell_type": "code",
      "source": [
        "pip install isodate"
      ],
      "metadata": {
        "colab": {
          "base_uri": "https://localhost:8080/"
        },
        "id": "nR78euWLgpXk",
        "outputId": "0b4738bc-564d-442f-8e8d-b7e9a5ead092"
      },
      "execution_count": 3,
      "outputs": [
        {
          "output_type": "stream",
          "name": "stdout",
          "text": [
            "Collecting isodate\n",
            "  Downloading isodate-0.7.2-py3-none-any.whl.metadata (11 kB)\n",
            "Downloading isodate-0.7.2-py3-none-any.whl (22 kB)\n",
            "Installing collected packages: isodate\n",
            "Successfully installed isodate-0.7.2\n"
          ]
        }
      ]
    },
    {
      "cell_type": "code",
      "source": [
        "from googleapiclient.discovery import build\n",
        "import pandas as pd\n",
        "import isodate"
      ],
      "metadata": {
        "id": "c37Kxp70fiK-"
      },
      "execution_count": 4,
      "outputs": []
    },
    {
      "cell_type": "code",
      "source": [
        "def get_playlist_videos_with_duration(api_key, playlist_id):\n",
        "    youtube = build('youtube', 'v3', developerKey=api_key)\n",
        "    videos_info = []\n",
        "    next_page_token = None\n",
        "\n",
        "    while True:\n",
        "        # Fetch playlist items\n",
        "        request = youtube.playlistItems().list(\n",
        "            part=\"snippet\",\n",
        "            playlistId=playlist_id,\n",
        "            maxResults=50,  # Maximum allowed by the API\n",
        "            pageToken=next_page_token\n",
        "        )\n",
        "        response = request.execute()\n",
        "\n",
        "        # Collect video IDs\n",
        "        video_ids = [item['snippet']['resourceId']['videoId'] for item in response['items']]\n",
        "\n",
        "        # Fetch video details for durations\n",
        "        details_request = youtube.videos().list(\n",
        "            part=\"contentDetails,snippet\",\n",
        "            id=\",\".join(video_ids)\n",
        "        )\n",
        "        details_response = details_request.execute()\n",
        "\n",
        "        for video in details_response['items']:\n",
        "            title = video['snippet']['title']\n",
        "            duration = isodate.parse_duration(video['contentDetails']['duration'])\n",
        "            videos_info.append({\"Title\": title, \"Duration\": str(duration)})\n",
        "\n",
        "        # Check for more pages\n",
        "        next_page_token = response.get('nextPageToken')\n",
        "        if not next_page_token:\n",
        "            break\n",
        "\n",
        "    return videos_info\n",
        "\n"
      ],
      "metadata": {
        "id": "AhPb2zcye9rI"
      },
      "execution_count": 5,
      "outputs": []
    },
    {
      "cell_type": "code",
      "source": [
        "API_KEY = \"\"\n",
        "PLAYLIST_ID = \"PLLc2nQDXYMHowSZ4Lkq2jnZ0gsJL3ArAw\"\n",
        "\n",
        "videos = get_playlist_videos_with_duration(API_KEY, PLAYLIST_ID)\n",
        "\n",
        "df = pd.DataFrame(videos)\n",
        "df.to_csv(\"playlist_videos.csv\", index=False)\n",
        "print(df)\n",
        "\n",
        "print(\"\\nPlaylist saved to 'playlist_videos.csv'.\")\n"
      ],
      "metadata": {
        "colab": {
          "base_uri": "https://localhost:8080/"
        },
        "id": "fyMQ7XXAgSnD",
        "outputId": "fb58e4d3-5479-4ac4-e060-ad2acc7c4812"
      },
      "execution_count": 7,
      "outputs": [
        {
          "output_type": "stream",
          "name": "stdout",
          "text": [
            "                                                Title Duration\n",
            "0   1. Azure Infrastructure with Terraform - What ...  0:05:20\n",
            "1   2. Azure Infrastructure with Terraform - Conce...  0:02:48\n",
            "2   3. Azure Infrastructure with Terraform - Terra...  0:01:42\n",
            "3   4. Azure Infrastructure with Terraform -  Inst...  0:05:40\n",
            "4   5. Azure Infrastructure with Terraform - Creat...  0:28:18\n",
            "5   6. Azure Infrastructure with Terraform - Creat...  0:10:32\n",
            "6   7. Azure Infrastructure with Terraform - Terra...  0:06:00\n",
            "7   8. Azure Infrastructure with Terraform - Creat...  0:06:55\n",
            "8   9. Azure Infrastructure with Terraform - Depen...  0:03:38\n",
            "9   10. Azure Infrastructure with Terraform - Dest...  0:02:19\n",
            "10  11. Azure Infrastructure with Terraform - Usin...  0:06:06\n",
            "11  12. Azure Infrastructure with Terraform - Lab ...  0:06:13\n",
            "12  13. Azure Infrastructure with Terraform  - Lab...  0:11:57\n",
            "13  14. Azure Infrastructure with Terraform - Quic...  0:03:28\n",
            "14  15. Azure Infrastructure with Terraform - Lab ...  0:06:32\n",
            "15  16. Azure Infrastructure with Terraform - Lab ...  0:07:36\n",
            "16  17. Azure Infrastructure with Terraform - Lab ...  0:10:47\n",
            "17  18. Azure Infrastructure with Terraform - Lab-...  0:11:19\n",
            "18  19. Azure Infrastructure with Terraform - Lab ...  0:08:25\n",
            "19  20. Azure Infrastructure with Terraform - Lab ...  0:08:24\n",
            "20  21. Azure Infrastructure with Terraform - Lab ...  0:07:16\n",
            "21  22. Azure Infrastructure with Terraform - Lab ...  0:06:54\n",
            "22  23. Azure Infrastructure with Terraform - Lab ...  0:04:46\n",
            "23  24. Azure Infrastructure with Terraform - Lab ...  0:10:54\n",
            "24  25.  Azure Infrastructure with Terraform - Lab...  0:09:22\n",
            "25  26. Azure Infrastructure with Terraform - Lab ...  0:14:05\n",
            "26  27. Azure Infrastructure with Terraform - Lab ...  0:14:18\n",
            "27  28.Azure Infrastructure with Terraform - Lab -...  0:13:26\n",
            "28  29.Azure Infrastructure with Terraform - Lab -...  0:34:22\n",
            "29  30.Azure Infrastructure with Terraform - Azure...  0:12:45\n",
            "30  31.Azure Infrastructure with Terraform - Virtu...  0:11:40\n",
            "31  32.Azure Infrastructure with Terraform - Azure...  0:21:09\n",
            "32  33.Azure Infrastructure with Terraform - Log A...  0:11:39\n",
            "33  34. Azure Infrastructure with Terraform - Lab ...  0:12:12\n",
            "34  35. Azure Infrastructure with Terraform - Lab ...  0:05:21\n",
            "35  36. Azure Infrastructure with Terraform - Lab ...  0:08:11\n",
            "36  37. Azure Infrastructure with Terraform - Lab ...  0:07:18\n",
            "37  38. Azure Infrastructure with Terraform - Lab ...  0:22:13\n",
            "38  39. Azure Infrastructure with Terraform - Brea...  0:06:52\n",
            "39  40.Azure Infrastructure with Terraform - Creat...  0:09:42\n",
            "40  Robert Pattinson Was One of Eddie Redmayne's M...  0:13:17\n",
            "\n",
            "Playlist saved to 'playlist_videos.csv'.\n"
          ]
        }
      ]
    },
    {
      "cell_type": "code",
      "source": [],
      "metadata": {
        "id": "rltTHjQmgr6I"
      },
      "execution_count": 6,
      "outputs": []
    }
  ]
}